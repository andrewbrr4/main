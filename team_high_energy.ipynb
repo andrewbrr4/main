{
  "nbformat": 4,
  "nbformat_minor": 0,
  "metadata": {
    "colab": {
      "name": "team_high_energy.ipynb",
      "version": "0.3.2",
      "provenance": [],
      "collapsed_sections": [
        "3SJcZ9NUFnDm",
        "pKmBwIWHFuAH",
        "TT8Nwt5REnIv",
        "SUfcXAWvEsn9",
        "OMg6fjCpF1Ku",
        "_TJ5RO3cF7ho"
      ]
    },
    "kernelspec": {
      "display_name": "Python 3",
      "language": "python",
      "name": "python3"
    }
  },
  "cells": [
    {
      "metadata": {
        "colab_type": "text",
        "id": "2URjf0_REx_A"
      },
      "cell_type": "markdown",
      "source": [
        "# Import and Functions"
      ]
    },
    {
      "metadata": {
        "colab_type": "code",
        "id": "fbSICfxtFKAN",
        "outputId": "10ed866c-fc3a-4509-e957-c943e6adeec7",
        "colab": {
          "base_uri": "https://localhost:8080/",
          "height": 683
        }
      },
      "cell_type": "code",
      "source": [
        "import pandas as pd \n",
        "import numpy as np\n",
        "import seaborn as sns\n",
        "import requests\n",
        "from bs4 import BeautifulSoup\n",
        "import pandas_profiling\n",
        "import sklearn\n",
        "import boto3\n",
        "from boto3 import session\n",
        "\n",
        "from sklearn.svm import SVC\n",
        "from sklearn.model_selection import GridSearchCV\n",
        "#from sklearn.cross_validation import cross_val_score, cross_val_predict, train_test_split, KFold, StratifiedKFold\n",
        "from sklearn import datasets, linear_model, metrics, preprocessing, pipeline\n",
        "from sklearn.pipeline import make_union, make_pipeline, Pipeline\n",
        "from sklearn.linear_model import LogisticRegression\n",
        "from sklearn.feature_extraction.text import CountVectorizer, TfidfVectorizer\n",
        "from sklearn.tree import DecisionTreeClassifier\n",
        "from sklearn.ensemble import RandomForestClassifier, ExtraTreesClassifier, BaggingClassifier\n",
        "from sklearn.preprocessing import LabelEncoder\n",
        "from sklearn.metrics import mean_squared_error, classification_report, confusion_matrix, accuracy_score, r2_score\n",
        "from sklearn.neighbors import KNeighborsClassifier\n",
        "\n",
        "import scipy.stats as stats\n",
        "import statsmodels.api as sm\n",
        "import statsmodels.formula.api as smf\n",
        "import patsy \n",
        "\n",
        "import matplotlib.pyplot as plt \n",
        "%matplotlib inline\n",
        "import seaborn as sns\n",
        "import plotly\n",
        "\n",
        "import re\n",
        "import sys\n",
        "import datetime as dt\n",
        "import time\n",
        "from time import sleep\n",
        "\n",
        "\n",
        "!pip install fancyimpute\n",
        "import fancyimpute\n",
        "from fancyimpute import KNN, NuclearNormMinimization, SoftImpute, IterativeImputer, BiScaler\n",
        "# documentation: https://pypi.org/project/fancyimpute/"
      ],
      "execution_count": 1,
      "outputs": [
        {
          "output_type": "stream",
          "text": [
            "/usr/local/lib/python3.6/dist-packages/statsmodels/compat/pandas.py:56: FutureWarning: The pandas.core.datetools module is deprecated and will be removed in a future version. Please use the pandas.tseries module instead.\n",
            "  from pandas.core import datetools\n"
          ],
          "name": "stderr"
        },
        {
          "output_type": "stream",
          "text": [
            "Requirement already satisfied: fancyimpute in /usr/local/lib/python3.6/dist-packages (0.4.2)\n",
            "Requirement already satisfied: six in /usr/local/lib/python3.6/dist-packages (from fancyimpute) (1.11.0)\n",
            "Requirement already satisfied: knnimpute in /usr/local/lib/python3.6/dist-packages (from fancyimpute) (0.1.0)\n",
            "Requirement already satisfied: numpy>=1.10 in /usr/local/lib/python3.6/dist-packages (from fancyimpute) (1.14.6)\n",
            "Requirement already satisfied: scipy in /usr/local/lib/python3.6/dist-packages (from fancyimpute) (1.1.0)\n",
            "Requirement already satisfied: cvxpy>=1.0.6 in /usr/local/lib/python3.6/dist-packages (from fancyimpute) (1.0.15)\n",
            "Requirement already satisfied: scikit-learn>=0.19.1 in /usr/local/lib/python3.6/dist-packages (from fancyimpute) (0.20.3)\n",
            "Requirement already satisfied: keras>=2.0.0 in /usr/local/lib/python3.6/dist-packages (from fancyimpute) (2.2.4)\n",
            "Requirement already satisfied: np_utils in /usr/local/lib/python3.6/dist-packages (from fancyimpute) (0.5.10.0)\n",
            "Requirement already satisfied: tensorflow in /usr/local/lib/python3.6/dist-packages (from fancyimpute) (1.13.1)\n",
            "Requirement already satisfied: osqp in /usr/local/lib/python3.6/dist-packages (from cvxpy>=1.0.6->fancyimpute) (0.5.0)\n",
            "Requirement already satisfied: ecos>=2 in /usr/local/lib/python3.6/dist-packages (from cvxpy>=1.0.6->fancyimpute) (2.0.7.post1)\n",
            "Requirement already satisfied: scs>=1.1.3 in /usr/local/lib/python3.6/dist-packages (from cvxpy>=1.0.6->fancyimpute) (2.0.2)\n",
            "Requirement already satisfied: multiprocess in /usr/local/lib/python3.6/dist-packages (from cvxpy>=1.0.6->fancyimpute) (0.70.7)\n",
            "Requirement already satisfied: fastcache in /usr/local/lib/python3.6/dist-packages (from cvxpy>=1.0.6->fancyimpute) (1.0.2)\n",
            "Requirement already satisfied: keras-applications>=1.0.6 in /usr/local/lib/python3.6/dist-packages (from keras>=2.0.0->fancyimpute) (1.0.7)\n",
            "Requirement already satisfied: h5py in /usr/local/lib/python3.6/dist-packages (from keras>=2.0.0->fancyimpute) (2.8.0)\n",
            "Requirement already satisfied: pyyaml in /usr/local/lib/python3.6/dist-packages (from keras>=2.0.0->fancyimpute) (3.13)\n",
            "Requirement already satisfied: keras-preprocessing>=1.0.5 in /usr/local/lib/python3.6/dist-packages (from keras>=2.0.0->fancyimpute) (1.0.9)\n",
            "Requirement already satisfied: future>=0.16 in /usr/local/lib/python3.6/dist-packages (from np_utils->fancyimpute) (0.16.0)\n",
            "Requirement already satisfied: astor>=0.6.0 in /usr/local/lib/python3.6/dist-packages (from tensorflow->fancyimpute) (0.7.1)\n",
            "Requirement already satisfied: grpcio>=1.8.6 in /usr/local/lib/python3.6/dist-packages (from tensorflow->fancyimpute) (1.15.0)\n",
            "Requirement already satisfied: tensorflow-estimator<1.14.0rc0,>=1.13.0 in /usr/local/lib/python3.6/dist-packages (from tensorflow->fancyimpute) (1.13.0)\n",
            "Requirement already satisfied: absl-py>=0.1.6 in /usr/local/lib/python3.6/dist-packages (from tensorflow->fancyimpute) (0.7.0)\n",
            "Requirement already satisfied: wheel>=0.26 in /usr/local/lib/python3.6/dist-packages (from tensorflow->fancyimpute) (0.33.1)\n",
            "Requirement already satisfied: termcolor>=1.1.0 in /usr/local/lib/python3.6/dist-packages (from tensorflow->fancyimpute) (1.1.0)\n",
            "Requirement already satisfied: gast>=0.2.0 in /usr/local/lib/python3.6/dist-packages (from tensorflow->fancyimpute) (0.2.2)\n",
            "Requirement already satisfied: tensorboard<1.14.0,>=1.13.0 in /usr/local/lib/python3.6/dist-packages (from tensorflow->fancyimpute) (1.13.0)\n",
            "Requirement already satisfied: protobuf>=3.6.1 in /usr/local/lib/python3.6/dist-packages (from tensorflow->fancyimpute) (3.6.1)\n",
            "Requirement already satisfied: dill>=0.2.9 in /usr/local/lib/python3.6/dist-packages (from multiprocess->cvxpy>=1.0.6->fancyimpute) (0.2.9)\n",
            "Requirement already satisfied: mock>=2.0.0 in /usr/local/lib/python3.6/dist-packages (from tensorflow-estimator<1.14.0rc0,>=1.13.0->tensorflow->fancyimpute) (2.0.0)\n",
            "Requirement already satisfied: werkzeug>=0.11.15 in /usr/local/lib/python3.6/dist-packages (from tensorboard<1.14.0,>=1.13.0->tensorflow->fancyimpute) (0.14.1)\n",
            "Requirement already satisfied: markdown>=2.6.8 in /usr/local/lib/python3.6/dist-packages (from tensorboard<1.14.0,>=1.13.0->tensorflow->fancyimpute) (3.0.1)\n",
            "Requirement already satisfied: setuptools in /usr/local/lib/python3.6/dist-packages (from protobuf>=3.6.1->tensorflow->fancyimpute) (40.8.0)\n",
            "Requirement already satisfied: pbr>=0.11 in /usr/local/lib/python3.6/dist-packages (from mock>=2.0.0->tensorflow-estimator<1.14.0rc0,>=1.13.0->tensorflow->fancyimpute) (5.1.3)\n"
          ],
          "name": "stdout"
        },
        {
          "output_type": "stream",
          "text": [
            "Using TensorFlow backend.\n"
          ],
          "name": "stderr"
        }
      ]
    },
    {
      "metadata": {
        "colab_type": "code",
        "id": "50ktrb8_N-n4",
        "colab": {}
      },
      "cell_type": "code",
      "source": [
        "#Exploratory Data Analysis\n",
        "\n",
        "def get_variable_category(series):\n",
        "    unique_count = series.nunique(dropna=False)\n",
        "    total_count = len(series)\n",
        "    if pd.api.types.is_numeric_dtype(series):\n",
        "        return 'Numerical'\n",
        "    elif pd.api.types.is_datetime64_dtype(series):\n",
        "        return 'Date'\n",
        "    elif unique_count==total_count:\n",
        "        return 'Text (Unique)'\n",
        "    else:\n",
        "        return 'Categorical'\n",
        "\n",
        "def print_variable_categories(data):\n",
        "    for column_name in data.columns:\n",
        "        print(column_name, ': ', get_variable_category(data[column_name]))\n",
        "        \n",
        "def datainspect(dataframe):\n",
        "    '''Inspect data'''\n",
        "    print('ROWS AND COLUMNS: \\n', dataframe.shape,'\\n')\n",
        "    print('MISSING VALUES: \\n', dataframe.isnull().sum(),'\\n')\n",
        "    print('DUPLICATE ROWS \\n', dataframe.duplicated().sum(),'\\n') \n",
        "    print('DATA TYPES: \\n', dataframe.dtypes,\"\\n\")\n",
        "    print('DATAFRAME DESCRIBE: \\n \\n', dataframe.describe(include='all'),'\\n')\n",
        "    print('UNIQUE VALUES:')\n",
        "    for item in dataframe:\n",
        "        print(item, dataframe[item].nunique())\n",
        "    print('\\n')\n",
        "    print('VARIABLE CATEGORIES:', '\\n' )\n",
        "    print(print_variable_categories(dataframe))\n"
      ],
      "execution_count": 0,
      "outputs": []
    },
    {
      "metadata": {
        "colab_type": "code",
        "id": "1OqhjPt_Rkix",
        "colab": {}
      },
      "cell_type": "code",
      "source": [
        "# Code to read csv file into Colaboratory:\n",
        "!pip install -U -q PyDrive\n",
        "from pydrive.auth import GoogleAuth\n",
        "from pydrive.drive import GoogleDrive\n",
        "from google.colab import auth\n",
        "from oauth2client.client import GoogleCredentials\n",
        "# Authenticate and create the PyDrive client.\n",
        "auth.authenticate_user()\n",
        "gauth = GoogleAuth()\n",
        "gauth.credentials = GoogleCredentials.get_application_default()\n",
        "drive = GoogleDrive(gauth)"
      ],
      "execution_count": 0,
      "outputs": []
    },
    {
      "metadata": {
        "colab_type": "text",
        "id": "KXs5HWRxbW2Q"
      },
      "cell_type": "markdown",
      "source": [
        "# Datasets\n",
        "## Historical Consumption  \n",
        "A selected time series of consumption data for over 200 buildings.\n",
        "\n",
        "**obs_id** - An arbitrary ID for the observations   \n",
        "**SiteId** - An arbitrary ID number for the building, matches across datasets  \n",
        "**ForecastId** - An ID for a timeseries that is part of a forecast (can be matched with the submission file)  \n",
        "**Timestamp** - The time of the measurement  \n",
        "**Value** - A measure of consumption for that building  \n",
        "  \n",
        "\n",
        "## Building Metadata\n",
        "Additional information about the included buildings.\n",
        "\n",
        "**SiteId** - An arbitrary ID number for the building, matches across datasets  \n",
        "**Surface** - The surface area of the building  \n",
        "**Sampling** - The number of minutes between each observation for this site. The timestep size for each ForecastId can be found in the separate \"Submission Forecast Period\" file on the data download page.  \n",
        "**BaseTemperature** - The base temperature for the building  \n",
        "**[DAY_OF_WEEK]IsDayOff** - True if DAY_OF_WEEK is not a work day  \n",
        "\n",
        "## Historical Weather Data\n",
        "This dataset contains temperature data from several stations near each site. For each site several temperature measurements were retrieved from stations in a radius of 30 km if available.\n",
        "\n",
        "*Note:* Not all sites will have available weather data.\n",
        "\n",
        "*Note:* Weather data is available for test periods under the assumption that reasonably accurate forecasts will be available to algorithms that the time that we are attempting to make predictions about the future.\n",
        "\n",
        "**SiteId** - An arbitrary ID number for the building, matches across datasets  \n",
        "**Timestamp** - The time of the measurement  \n",
        "**Temperature** - The temperature as measured at the weather station  \n",
        "**Distance** - The distance in km from the weather station to the building in km  \n",
        "\n",
        "## Public Holidays\n",
        "Public holidays at the sites included in the dataset, which may be helpful for identifying days where consumption may be lower than expected.\n",
        "\n",
        "*Note:* Not all sites will have available public holiday data.\n",
        "\n",
        "**SiteId** - An arbitrary ID number for the building, matches across datasets  \n",
        "**Timestamp** - The date of the holiday  \n",
        "**Holiday** - The name of the holiday"
      ]
    },
    {
      "metadata": {
        "colab_type": "text",
        "id": "3SJcZ9NUFnDm"
      },
      "cell_type": "markdown",
      "source": [
        "# Submission Forecast Period (not using)"
      ]
    },
    {
      "metadata": {
        "colab_type": "code",
        "id": "VL3bJa0TiBEv",
        "outputId": "ec1b8458-c2fe-4363-b886-776ea9c231ee",
        "colab": {
          "base_uri": "https://localhost:8080/",
          "height": 34
        }
      },
      "cell_type": "code",
      "source": [
        "submission_forecast_period = 'https://drive.google.com/open?id=1S59Hrh4yduw3Ee_X5yHzHDlSbg-1PkUK'\n",
        "fluff, id = submission_forecast_period.split('=')\n",
        "print (id)"
      ],
      "execution_count": 4,
      "outputs": [
        {
          "output_type": "stream",
          "text": [
            "1S59Hrh4yduw3Ee_X5yHzHDlSbg-1PkUK\n"
          ],
          "name": "stdout"
        }
      ]
    },
    {
      "metadata": {
        "colab_type": "code",
        "id": "xjoDOipriQz6",
        "outputId": "a1aceca1-879d-46f5-acb7-5d8e8e9b52a5",
        "colab": {
          "base_uri": "https://localhost:8080/",
          "height": 204
        }
      },
      "cell_type": "code",
      "source": [
        "downloaded = drive.CreateFile({'id':id}) \n",
        "downloaded.GetContentFile('power-laws-forecasting-energy-consumption-submission-forecast-period.csv')  \n",
        "submission_forecast_period = pd.read_csv('power-laws-forecasting-energy-consumption-submission-forecast-period.csv', sep = ';')\n",
        "submission_forecast_period.head()"
      ],
      "execution_count": 5,
      "outputs": [
        {
          "output_type": "execute_result",
          "data": {
            "text/html": [
              "<div>\n",
              "<style scoped>\n",
              "    .dataframe tbody tr th:only-of-type {\n",
              "        vertical-align: middle;\n",
              "    }\n",
              "\n",
              "    .dataframe tbody tr th {\n",
              "        vertical-align: top;\n",
              "    }\n",
              "\n",
              "    .dataframe thead th {\n",
              "        text-align: right;\n",
              "    }\n",
              "</style>\n",
              "<table border=\"1\" class=\"dataframe\">\n",
              "  <thead>\n",
              "    <tr style=\"text-align: right;\">\n",
              "      <th></th>\n",
              "      <th>ForecastId</th>\n",
              "      <th>ForecastPeriodNS</th>\n",
              "    </tr>\n",
              "  </thead>\n",
              "  <tbody>\n",
              "    <tr>\n",
              "      <th>0</th>\n",
              "      <td>18</td>\n",
              "      <td>3600000000000</td>\n",
              "    </tr>\n",
              "    <tr>\n",
              "      <th>1</th>\n",
              "      <td>58</td>\n",
              "      <td>900000000000</td>\n",
              "    </tr>\n",
              "    <tr>\n",
              "      <th>2</th>\n",
              "      <td>64</td>\n",
              "      <td>900000000000</td>\n",
              "    </tr>\n",
              "    <tr>\n",
              "      <th>3</th>\n",
              "      <td>89</td>\n",
              "      <td>900000000000</td>\n",
              "    </tr>\n",
              "    <tr>\n",
              "      <th>4</th>\n",
              "      <td>101</td>\n",
              "      <td>900000000000</td>\n",
              "    </tr>\n",
              "  </tbody>\n",
              "</table>\n",
              "</div>"
            ],
            "text/plain": [
              "   ForecastId  ForecastPeriodNS\n",
              "0          18     3600000000000\n",
              "1          58      900000000000\n",
              "2          64      900000000000\n",
              "3          89      900000000000\n",
              "4         101      900000000000"
            ]
          },
          "metadata": {
            "tags": []
          },
          "execution_count": 5
        }
      ]
    },
    {
      "metadata": {
        "colab_type": "code",
        "id": "s_VO2XaSOmzb",
        "outputId": "02a689e7-4a47-4dbe-95a7-babd1d4c9e7a",
        "colab": {
          "base_uri": "https://localhost:8080/",
          "height": 663
        }
      },
      "cell_type": "code",
      "source": [
        "datainspect(submission_forecast_period)"
      ],
      "execution_count": 6,
      "outputs": [
        {
          "output_type": "stream",
          "text": [
            "ROWS AND COLUMNS: \n",
            " (6974, 2) \n",
            "\n",
            "MISSING VALUES: \n",
            " ForecastId          0\n",
            "ForecastPeriodNS    0\n",
            "dtype: int64 \n",
            "\n",
            "DUPLICATE ROWS \n",
            " 0 \n",
            "\n",
            "DATA TYPES: \n",
            " ForecastId          int64\n",
            "ForecastPeriodNS    int64\n",
            "dtype: object \n",
            "\n",
            "DATAFRAME DESCRIBE: \n",
            " \n",
            "         ForecastId  ForecastPeriodNS\n",
            "count  6974.000000      6.974000e+03\n",
            "mean   3487.500000      4.151821e+12\n",
            "std    2013.364721      1.502076e+13\n",
            "min       1.000000      9.000000e+11\n",
            "25%    1744.250000      9.000000e+11\n",
            "50%    3487.500000      9.000000e+11\n",
            "75%    5230.750000      9.000000e+11\n",
            "max    6974.000000      8.640000e+13 \n",
            "\n",
            "UNIQUE VALUES:\n",
            "ForecastId 6974\n",
            "ForecastPeriodNS 3\n",
            "\n",
            "\n",
            "VARIABLE CATEGORIES: \n",
            "\n",
            "ForecastId :  Numerical\n",
            "ForecastPeriodNS :  Numerical\n",
            "None\n"
          ],
          "name": "stdout"
        }
      ]
    },
    {
      "metadata": {
        "colab_type": "code",
        "id": "BO-xAs2Wz9v3",
        "outputId": "9d4402aa-3d7d-4608-8bf5-5300c20777eb",
        "colab": {
          "base_uri": "https://localhost:8080/",
          "height": 327
        }
      },
      "cell_type": "code",
      "source": [
        "submission_forecast_period.plot(kind='scatter', x='ForecastId', y='ForecastPeriodNS');"
      ],
      "execution_count": 7,
      "outputs": [
        {
          "output_type": "stream",
          "text": [
            "'c' argument looks like a single numeric RGB or RGBA sequence, which should be avoided as value-mapping will have precedence in case its length matches with 'x' & 'y'.  Please use a 2-D array with a single row if you really want to specify the same RGB or RGBA value for all points.\n"
          ],
          "name": "stderr"
        },
        {
          "output_type": "display_data",
          "data": {
            "image/png": "[encoded data removed]",
            "text/plain": [
              "<Figure size 432x288 with 1 Axes>"
            ]
          },
          "metadata": {
            "tags": []
          }
        }
      ]
    },
    {
      "metadata": {
        "colab_type": "code",
        "id": "M2IktXyw1hOv",
        "outputId": "a46fded1-8764-47f4-ae52-361456156847",
        "colab": {
          "base_uri": "https://localhost:8080/",
          "height": 293
        }
      },
      "cell_type": "code",
      "source": [
        "correlation = submission_forecast_period.corr()                            # correlation between ALL variables \n",
        "sns.heatmap(correlation, cmap='bwr')"
      ],
      "execution_count": 8,
      "outputs": [
        {
          "output_type": "execute_result",
          "data": {
            "text/plain": [
              "<matplotlib.axes._subplots.AxesSubplot at 0x7ff225fb2ef0>"
            ]
          },
          "metadata": {
            "tags": []
          },
          "execution_count": 8
        },
        {
          "output_type": "display_data",
          "data": {
            "image/png": "[encoded data removed]",
            "text/plain": [
              "<Figure size 432x288 with 2 Axes>"
            ]
          },
          "metadata": {
            "tags": []
          }
        }
      ]
    },
    {
      "metadata": {
        "colab_type": "text",
        "id": "pKmBwIWHFuAH"
      },
      "cell_type": "markdown",
      "source": [
        "# Submission Format (not using)"
      ]
    },
    {
      "metadata": {
        "colab_type": "code",
        "id": "OdgrBxjrizZJ",
        "outputId": "9daa293d-1541-44f2-f08e-fc5c4a861d4d",
        "colab": {
          "base_uri": "https://localhost:8080/",
          "height": 34
        }
      },
      "cell_type": "code",
      "source": [
        "submission_format = 'https://drive.google.com/open?id=1B196PxseHWY4DTGgy1dUMqwtm7MFEw_r'\n",
        "fluff, id = submission_format.split('=')\n",
        "print (id)"
      ],
      "execution_count": 12,
      "outputs": [
        {
          "output_type": "stream",
          "text": [
            "1B196PxseHWY4DTGgy1dUMqwtm7MFEw_r\n"
          ],
          "name": "stdout"
        }
      ]
    },
    {
      "metadata": {
        "colab_type": "code",
        "id": "PDiFXBWJkb5H",
        "outputId": "c29dc907-a20f-467e-f3bf-f23c3358d874",
        "colab": {
          "base_uri": "https://localhost:8080/",
          "height": 204
        }
      },
      "cell_type": "code",
      "source": [
        "downloaded = drive.CreateFile({'id':id}) \n",
        "downloaded.GetContentFile('power-laws-forecasting-energy-consumption-submission-format.csv')  \n",
        "submission_format = pd.read_csv('power-laws-forecasting-energy-consumption-submission-format.csv', sep = ';')\n",
        "submission_format['Timestamp'] = pd.to_datetime(submission_format['Timestamp'])\n",
        "submission_format.head()"
      ],
      "execution_count": 13,
      "outputs": [
        {
          "output_type": "execute_result",
          "data": {
            "text/html": [
              "<div>\n",
              "<style scoped>\n",
              "    .dataframe tbody tr th:only-of-type {\n",
              "        vertical-align: middle;\n",
              "    }\n",
              "\n",
              "    .dataframe tbody tr th {\n",
              "        vertical-align: top;\n",
              "    }\n",
              "\n",
              "    .dataframe thead th {\n",
              "        text-align: right;\n",
              "    }\n",
              "</style>\n",
              "<table border=\"1\" class=\"dataframe\">\n",
              "  <thead>\n",
              "    <tr style=\"text-align: right;\">\n",
              "      <th></th>\n",
              "      <th>obs_id</th>\n",
              "      <th>SiteId</th>\n",
              "      <th>Timestamp</th>\n",
              "      <th>ForecastId</th>\n",
              "      <th>Value</th>\n",
              "    </tr>\n",
              "  </thead>\n",
              "  <tbody>\n",
              "    <tr>\n",
              "      <th>0</th>\n",
              "      <td>2535749</td>\n",
              "      <td>143</td>\n",
              "      <td>2017-08-28</td>\n",
              "      <td>3146</td>\n",
              "      <td>0.0</td>\n",
              "    </tr>\n",
              "    <tr>\n",
              "      <th>1</th>\n",
              "      <td>7300088</td>\n",
              "      <td>143</td>\n",
              "      <td>2017-08-28</td>\n",
              "      <td>3146</td>\n",
              "      <td>0.0</td>\n",
              "    </tr>\n",
              "    <tr>\n",
              "      <th>2</th>\n",
              "      <td>1465337</td>\n",
              "      <td>143</td>\n",
              "      <td>2017-08-28</td>\n",
              "      <td>3146</td>\n",
              "      <td>0.0</td>\n",
              "    </tr>\n",
              "    <tr>\n",
              "      <th>3</th>\n",
              "      <td>4747700</td>\n",
              "      <td>143</td>\n",
              "      <td>2017-08-28</td>\n",
              "      <td>3146</td>\n",
              "      <td>0.0</td>\n",
              "    </tr>\n",
              "    <tr>\n",
              "      <th>4</th>\n",
              "      <td>6008051</td>\n",
              "      <td>143</td>\n",
              "      <td>2017-08-28</td>\n",
              "      <td>3146</td>\n",
              "      <td>0.0</td>\n",
              "    </tr>\n",
              "  </tbody>\n",
              "</table>\n",
              "</div>"
            ],
            "text/plain": [
              "    obs_id  SiteId  Timestamp  ForecastId  Value\n",
              "0  2535749     143 2017-08-28        3146    0.0\n",
              "1  7300088     143 2017-08-28        3146    0.0\n",
              "2  1465337     143 2017-08-28        3146    0.0\n",
              "3  4747700     143 2017-08-28        3146    0.0\n",
              "4  6008051     143 2017-08-28        3146    0.0"
            ]
          },
          "metadata": {
            "tags": []
          },
          "execution_count": 13
        }
      ]
    },
    {
      "metadata": {
        "colab_type": "code",
        "id": "kmj74_hgOwHC",
        "outputId": "f3387d5b-9376-4873-b50f-5f86a58e31ab",
        "colab": {
          "base_uri": "https://localhost:8080/",
          "height": 1207
        }
      },
      "cell_type": "code",
      "source": [
        "datainspect(submission_format)"
      ],
      "execution_count": 14,
      "outputs": [
        {
          "output_type": "stream",
          "text": [
            "ROWS AND COLUMNS: \n",
            " (1309176, 5) \n",
            "\n",
            "MISSING VALUES: \n",
            " obs_id        0\n",
            "SiteId        0\n",
            "Timestamp     0\n",
            "ForecastId    0\n",
            "Value         0\n",
            "dtype: int64 \n",
            "\n",
            "DUPLICATE ROWS \n",
            " 0 \n",
            "\n",
            "DATA TYPES: \n",
            " obs_id                 int64\n",
            "SiteId                 int64\n",
            "Timestamp     datetime64[ns]\n",
            "ForecastId             int64\n",
            "Value                float64\n",
            "dtype: object \n",
            "\n",
            "DATAFRAME DESCRIBE: \n",
            " \n",
            "               obs_id        SiteId            Timestamp    ForecastId  \\\n",
            "count   1.309176e+06  1.309176e+06              1309176  1.309176e+06   \n",
            "unique           NaN           NaN                 2269           NaN   \n",
            "top              NaN           NaN  2016-07-26 00:00:00           NaN   \n",
            "freq             NaN           NaN                 2597           NaN   \n",
            "first            NaN           NaN  2009-08-02 00:00:00           NaN   \n",
            "last             NaN           NaN  2017-12-28 00:00:00           NaN   \n",
            "mean    3.931478e+06  1.621134e+02                  NaN  3.482680e+03   \n",
            "std     2.271962e+06  9.393814e+01                  NaN  2.009967e+03   \n",
            "min     2.000000e+00  1.000000e+00                  NaN  1.000000e+00   \n",
            "25%     1.963225e+06  8.700000e+01                  NaN  1.744000e+03   \n",
            "50%     3.930562e+06  1.730000e+02                  NaN  3.489000e+03   \n",
            "75%     5.900716e+06  2.370000e+02                  NaN  5.217000e+03   \n",
            "max     7.869003e+06  3.050000e+02                  NaN  6.974000e+03   \n",
            "\n",
            "            Value  \n",
            "count   1309176.0  \n",
            "unique        NaN  \n",
            "top           NaN  \n",
            "freq          NaN  \n",
            "first         NaN  \n",
            "last          NaN  \n",
            "mean          0.0  \n",
            "std           0.0  \n",
            "min           0.0  \n",
            "25%           0.0  \n",
            "50%           0.0  \n",
            "75%           0.0  \n",
            "max           0.0   \n",
            "\n",
            "UNIQUE VALUES:\n",
            "obs_id 1309176\n",
            "SiteId 267\n",
            "Timestamp 2269\n",
            "ForecastId 6974\n",
            "Value 1\n",
            "\n",
            "\n",
            "VARIABLE CATEGORIES: \n",
            "\n",
            "obs_id :  Numerical\n",
            "SiteId :  Numerical\n",
            "Timestamp :  Date\n",
            "ForecastId :  Numerical\n",
            "Value :  Numerical\n",
            "None\n"
          ],
          "name": "stdout"
        }
      ]
    },
    {
      "metadata": {
        "colab_type": "text",
        "id": "TT8Nwt5REnIv"
      },
      "cell_type": "markdown",
      "source": [
        "# Holidays"
      ]
    },
    {
      "metadata": {
        "colab_type": "code",
        "id": "0Hp5R7vIf-4C",
        "outputId": "90fd2ab3-320a-4d87-e6d7-806c25297471",
        "colab": {
          "base_uri": "https://localhost:8080/",
          "height": 34
        }
      },
      "cell_type": "code",
      "source": [
        "holidays = 'https://drive.google.com/open?id=1H0TqoTnei1_8DP-ttDsOsJyVkmytQZLG'\n",
        "fluff, id = holidays.split('=')\n",
        "print (id)"
      ],
      "execution_count": 15,
      "outputs": [
        {
          "output_type": "stream",
          "text": [
            "1H0TqoTnei1_8DP-ttDsOsJyVkmytQZLG\n"
          ],
          "name": "stdout"
        }
      ]
    },
    {
      "metadata": {
        "colab_type": "code",
        "id": "nmsSxfjXgxVV",
        "outputId": "62cfd121-79e5-4f22-fc5f-dabbb778e19d",
        "colab": {
          "base_uri": "https://localhost:8080/",
          "height": 204
        }
      },
      "cell_type": "code",
      "source": [
        "downloaded = drive.CreateFile({'id':id}) \n",
        "downloaded.GetContentFile('power-laws-forecasting-energy-consumption-holidays.csv')  \n",
        "holidays = pd.read_csv('power-laws-forecasting-energy-consumption-holidays.csv', sep = ';')\n",
        "holidays['Date'] = pd.to_datetime(holidays['Date'])\n",
        "holidays.rename(columns={'Date': 'Timestamp'}, inplace=True)\n",
        "holidays.head()"
      ],
      "execution_count": 16,
      "outputs": [
        {
          "output_type": "execute_result",
          "data": {
            "text/html": [
              "<div>\n",
              "<style scoped>\n",
              "    .dataframe tbody tr th:only-of-type {\n",
              "        vertical-align: middle;\n",
              "    }\n",
              "\n",
              "    .dataframe tbody tr th {\n",
              "        vertical-align: top;\n",
              "    }\n",
              "\n",
              "    .dataframe thead th {\n",
              "        text-align: right;\n",
              "    }\n",
              "</style>\n",
              "<table border=\"1\" class=\"dataframe\">\n",
              "  <thead>\n",
              "    <tr style=\"text-align: right;\">\n",
              "      <th></th>\n",
              "      <th>Timestamp</th>\n",
              "      <th>Holiday</th>\n",
              "      <th>SiteId</th>\n",
              "    </tr>\n",
              "  </thead>\n",
              "  <tbody>\n",
              "    <tr>\n",
              "      <th>0</th>\n",
              "      <td>2015-05-01</td>\n",
              "      <td>Workers Day</td>\n",
              "      <td>189</td>\n",
              "    </tr>\n",
              "    <tr>\n",
              "      <th>1</th>\n",
              "      <td>2015-09-24</td>\n",
              "      <td>Heritage Day</td>\n",
              "      <td>189</td>\n",
              "    </tr>\n",
              "    <tr>\n",
              "      <th>2</th>\n",
              "      <td>2017-01-02</td>\n",
              "      <td>New year substitute</td>\n",
              "      <td>190</td>\n",
              "    </tr>\n",
              "    <tr>\n",
              "      <th>3</th>\n",
              "      <td>2017-08-09</td>\n",
              "      <td>National Women Day</td>\n",
              "      <td>190</td>\n",
              "    </tr>\n",
              "    <tr>\n",
              "      <th>4</th>\n",
              "      <td>2017-12-26</td>\n",
              "      <td>Boxing Day</td>\n",
              "      <td>190</td>\n",
              "    </tr>\n",
              "  </tbody>\n",
              "</table>\n",
              "</div>"
            ],
            "text/plain": [
              "   Timestamp              Holiday  SiteId\n",
              "0 2015-05-01          Workers Day     189\n",
              "1 2015-09-24         Heritage Day     189\n",
              "2 2017-01-02  New year substitute     190\n",
              "3 2017-08-09   National Women Day     190\n",
              "4 2017-12-26           Boxing Day     190"
            ]
          },
          "metadata": {
            "tags": []
          },
          "execution_count": 16
        }
      ]
    },
    {
      "metadata": {
        "colab_type": "code",
        "id": "hBxv-Zo_OUtn",
        "outputId": "2c792363-ef83-495e-cf1e-4634a128dc69",
        "colab": {
          "base_uri": "https://localhost:8080/",
          "height": 816
        }
      },
      "cell_type": "code",
      "source": [
        "datainspect(holidays)\n",
        "#going to append holidays dataset for now, but may not need the information at all since it's redundant"
      ],
      "execution_count": 17,
      "outputs": [
        {
          "output_type": "stream",
          "text": [
            "ROWS AND COLUMNS: \n",
            " (8387, 3) \n",
            "\n",
            "MISSING VALUES: \n",
            " Timestamp    0\n",
            "Holiday      0\n",
            "SiteId       0\n",
            "dtype: int64 \n",
            "\n",
            "DUPLICATE ROWS \n",
            " 0 \n",
            "\n",
            "DATA TYPES: \n",
            " Timestamp    datetime64[ns]\n",
            "Holiday              object\n",
            "SiteId                int64\n",
            "dtype: object \n",
            "\n",
            "DATAFRAME DESCRIBE: \n",
            " \n",
            "                   Timestamp        Holiday       SiteId\n",
            "count                  8387           8387  8387.000000\n",
            "unique                  346            110          NaN\n",
            "top     2016-12-26 00:00:00  Christmas Day          NaN\n",
            "freq                    253            707          NaN\n",
            "first   2009-01-01 00:00:00            NaN          NaN\n",
            "last    2018-01-01 00:00:00            NaN          NaN\n",
            "mean                    NaN            NaN   156.675808\n",
            "std                     NaN            NaN    85.650221\n",
            "min                     NaN            NaN     1.000000\n",
            "25%                     NaN            NaN    87.000000\n",
            "50%                     NaN            NaN   157.000000\n",
            "75%                     NaN            NaN   216.000000\n",
            "max                     NaN            NaN   305.000000 \n",
            "\n",
            "UNIQUE VALUES:\n",
            "Timestamp 346\n",
            "Holiday 110\n",
            "SiteId 227\n",
            "\n",
            "\n",
            "VARIABLE CATEGORIES: \n",
            "\n",
            "Timestamp :  Date\n",
            "Holiday :  Categorical\n",
            "SiteId :  Numerical\n",
            "None\n"
          ],
          "name": "stdout"
        }
      ]
    },
    {
      "metadata": {
        "colab_type": "code",
        "id": "VnYjTY17sX_l",
        "outputId": "3454648b-6c5c-4fae-eef1-dfb12013db7e",
        "colab": {
          "base_uri": "https://localhost:8080/",
          "height": 119
        }
      },
      "cell_type": "code",
      "source": [
        "holidays['Holiday'].value_counts().head()"
      ],
      "execution_count": 18,
      "outputs": [
        {
          "output_type": "execute_result",
          "data": {
            "text/plain": [
              "Christmas Day                   707\n",
              "New year                        707\n",
              "Easter Monday                   652\n",
              "All Saints Day                  523\n",
              "Assumption of Mary to Heaven    521\n",
              "Name: Holiday, dtype: int64"
            ]
          },
          "metadata": {
            "tags": []
          },
          "execution_count": 18
        }
      ]
    },
    {
      "metadata": {
        "colab_type": "code",
        "id": "z74xzJTX1v6G",
        "outputId": "a3d9967f-5a48-4a29-87df-11a3ede67760",
        "colab": {
          "base_uri": "https://localhost:8080/",
          "height": 119
        }
      },
      "cell_type": "code",
      "source": [
        "holidays['Timestamp'].value_counts().head()"
      ],
      "execution_count": 19,
      "outputs": [
        {
          "output_type": "execute_result",
          "data": {
            "text/plain": [
              "2016-12-26    253\n",
              "2016-01-01    224\n",
              "2016-12-25    223\n",
              "2016-05-01    215\n",
              "2016-03-28    206\n",
              "Name: Timestamp, dtype: int64"
            ]
          },
          "metadata": {
            "tags": []
          },
          "execution_count": 19
        }
      ]
    },
    {
      "metadata": {
        "colab_type": "text",
        "id": "I-hGUi9Q14n4"
      },
      "cell_type": "markdown",
      "source": [
        "it looks like it's reading christmas day as the 26th--is this a problem??"
      ]
    },
    {
      "metadata": {
        "colab_type": "text",
        "id": "SUfcXAWvEsn9"
      },
      "cell_type": "markdown",
      "source": [
        "# Metadata"
      ]
    },
    {
      "metadata": {
        "colab_type": "code",
        "id": "aQAJsOn2g_pe",
        "outputId": "96182e02-6e0b-436f-ddda-4ee5481183a1",
        "colab": {
          "base_uri": "https://localhost:8080/",
          "height": 34
        }
      },
      "cell_type": "code",
      "source": [
        "metadata = 'https://drive.google.com/open?id=1dpwWIs3EyLkaaOSN8ws8gMHgCFsRTYK3'\n",
        "fluff, id = metadata.split('=')\n",
        "print (id)"
      ],
      "execution_count": 20,
      "outputs": [
        {
          "output_type": "stream",
          "text": [
            "1dpwWIs3EyLkaaOSN8ws8gMHgCFsRTYK3\n"
          ],
          "name": "stdout"
        }
      ]
    },
    {
      "metadata": {
        "colab_type": "code",
        "id": "h8Wq9SOhh70h",
        "outputId": "75aa6aea-1845-44ce-f452-08bb269c608e",
        "colab": {
          "base_uri": "https://localhost:8080/",
          "height": 224
        }
      },
      "cell_type": "code",
      "source": [
        "downloaded = drive.CreateFile({'id':id}) \n",
        "downloaded.GetContentFile('power-laws-forecasting-energy-consumption-metadata.csv')  \n",
        "metadata = pd.read_csv('power-laws-forecasting-energy-consumption-metadata.csv', sep = ';')\n",
        "metadata.head()"
      ],
      "execution_count": 21,
      "outputs": [
        {
          "output_type": "execute_result",
          "data": {
            "text/html": [
              "<div>\n",
              "<style scoped>\n",
              "    .dataframe tbody tr th:only-of-type {\n",
              "        vertical-align: middle;\n",
              "    }\n",
              "\n",
              "    .dataframe tbody tr th {\n",
              "        vertical-align: top;\n",
              "    }\n",
              "\n",
              "    .dataframe thead th {\n",
              "        text-align: right;\n",
              "    }\n",
              "</style>\n",
              "<table border=\"1\" class=\"dataframe\">\n",
              "  <thead>\n",
              "    <tr style=\"text-align: right;\">\n",
              "      <th></th>\n",
              "      <th>SiteId</th>\n",
              "      <th>Surface</th>\n",
              "      <th>Sampling</th>\n",
              "      <th>BaseTemperature</th>\n",
              "      <th>MondayIsDayOff</th>\n",
              "      <th>TuesdayIsDayOff</th>\n",
              "      <th>WednesdayIsDayOff</th>\n",
              "      <th>ThursdayIsDayOff</th>\n",
              "      <th>FridayIsDayOff</th>\n",
              "      <th>SaturdayIsDayOff</th>\n",
              "      <th>SundayIsDayOff</th>\n",
              "    </tr>\n",
              "  </thead>\n",
              "  <tbody>\n",
              "    <tr>\n",
              "      <th>0</th>\n",
              "      <td>25</td>\n",
              "      <td>2201.924904</td>\n",
              "      <td>15.0</td>\n",
              "      <td>18.0</td>\n",
              "      <td>False</td>\n",
              "      <td>False</td>\n",
              "      <td>False</td>\n",
              "      <td>False</td>\n",
              "      <td>False</td>\n",
              "      <td>True</td>\n",
              "      <td>True</td>\n",
              "    </tr>\n",
              "    <tr>\n",
              "      <th>1</th>\n",
              "      <td>49</td>\n",
              "      <td>1046.032846</td>\n",
              "      <td>15.0</td>\n",
              "      <td>18.0</td>\n",
              "      <td>False</td>\n",
              "      <td>False</td>\n",
              "      <td>False</td>\n",
              "      <td>False</td>\n",
              "      <td>False</td>\n",
              "      <td>True</td>\n",
              "      <td>True</td>\n",
              "    </tr>\n",
              "    <tr>\n",
              "      <th>2</th>\n",
              "      <td>73</td>\n",
              "      <td>1278.139659</td>\n",
              "      <td>15.0</td>\n",
              "      <td>18.0</td>\n",
              "      <td>False</td>\n",
              "      <td>False</td>\n",
              "      <td>False</td>\n",
              "      <td>False</td>\n",
              "      <td>False</td>\n",
              "      <td>True</td>\n",
              "      <td>True</td>\n",
              "    </tr>\n",
              "    <tr>\n",
              "      <th>3</th>\n",
              "      <td>105</td>\n",
              "      <td>15684.678378</td>\n",
              "      <td>10.0</td>\n",
              "      <td>18.0</td>\n",
              "      <td>False</td>\n",
              "      <td>False</td>\n",
              "      <td>False</td>\n",
              "      <td>False</td>\n",
              "      <td>False</td>\n",
              "      <td>True</td>\n",
              "      <td>True</td>\n",
              "    </tr>\n",
              "    <tr>\n",
              "      <th>4</th>\n",
              "      <td>117</td>\n",
              "      <td>18772.751947</td>\n",
              "      <td>15.0</td>\n",
              "      <td>18.0</td>\n",
              "      <td>False</td>\n",
              "      <td>False</td>\n",
              "      <td>False</td>\n",
              "      <td>False</td>\n",
              "      <td>False</td>\n",
              "      <td>False</td>\n",
              "      <td>False</td>\n",
              "    </tr>\n",
              "  </tbody>\n",
              "</table>\n",
              "</div>"
            ],
            "text/plain": [
              "   SiteId       Surface  Sampling  BaseTemperature  MondayIsDayOff  \\\n",
              "0      25   2201.924904      15.0             18.0           False   \n",
              "1      49   1046.032846      15.0             18.0           False   \n",
              "2      73   1278.139659      15.0             18.0           False   \n",
              "3     105  15684.678378      10.0             18.0           False   \n",
              "4     117  18772.751947      15.0             18.0           False   \n",
              "\n",
              "   TuesdayIsDayOff  WednesdayIsDayOff  ThursdayIsDayOff  FridayIsDayOff  \\\n",
              "0            False              False             False           False   \n",
              "1            False              False             False           False   \n",
              "2            False              False             False           False   \n",
              "3            False              False             False           False   \n",
              "4            False              False             False           False   \n",
              "\n",
              "   SaturdayIsDayOff  SundayIsDayOff  \n",
              "0              True            True  \n",
              "1              True            True  \n",
              "2              True            True  \n",
              "3              True            True  \n",
              "4             False           False  "
            ]
          },
          "metadata": {
            "tags": []
          },
          "execution_count": 21
        }
      ]
    },
    {
      "metadata": {
        "colab_type": "code",
        "id": "QEszZ_3nOh_U",
        "outputId": "9fc423eb-ae1b-46cb-b242-de3fa847e3d9",
        "colab": {
          "base_uri": "https://localhost:8080/",
          "height": 1768
        }
      },
      "cell_type": "code",
      "source": [
        "datainspect(metadata)"
      ],
      "execution_count": 22,
      "outputs": [
        {
          "output_type": "stream",
          "text": [
            "ROWS AND COLUMNS: \n",
            " (267, 11) \n",
            "\n",
            "MISSING VALUES: \n",
            " SiteId               0\n",
            "Surface              0\n",
            "Sampling             0\n",
            "BaseTemperature      0\n",
            "MondayIsDayOff       0\n",
            "TuesdayIsDayOff      0\n",
            "WednesdayIsDayOff    0\n",
            "ThursdayIsDayOff     0\n",
            "FridayIsDayOff       0\n",
            "SaturdayIsDayOff     0\n",
            "SundayIsDayOff       0\n",
            "dtype: int64 \n",
            "\n",
            "DUPLICATE ROWS \n",
            " 0 \n",
            "\n",
            "DATA TYPES: \n",
            " SiteId                 int64\n",
            "Surface              float64\n",
            "Sampling             float64\n",
            "BaseTemperature      float64\n",
            "MondayIsDayOff          bool\n",
            "TuesdayIsDayOff         bool\n",
            "WednesdayIsDayOff       bool\n",
            "ThursdayIsDayOff        bool\n",
            "FridayIsDayOff          bool\n",
            "SaturdayIsDayOff        bool\n",
            "SundayIsDayOff          bool\n",
            "dtype: object \n",
            "\n",
            "DATAFRAME DESCRIBE: \n",
            " \n",
            "             SiteId       Surface    Sampling  BaseTemperature MondayIsDayOff  \\\n",
            "count   267.000000    267.000000  267.000000       267.000000            267   \n",
            "unique         NaN           NaN         NaN              NaN              1   \n",
            "top            NaN           NaN         NaN              NaN          False   \n",
            "freq           NaN           NaN         NaN              NaN            267   \n",
            "mean    157.719101   7894.541319   14.438202        18.026217            NaN   \n",
            "std      88.781093   9744.769014    4.715887         0.251436            NaN   \n",
            "min       1.000000     14.884534    5.000000        18.000000            NaN   \n",
            "25%      80.500000   1047.555756   15.000000        18.000000            NaN   \n",
            "50%     161.000000   3719.858954   15.000000        18.000000            NaN   \n",
            "75%     234.500000  12886.748054   15.000000        18.000000            NaN   \n",
            "max     305.000000  71615.852476   30.000000        21.000000            NaN   \n",
            "\n",
            "       TuesdayIsDayOff WednesdayIsDayOff ThursdayIsDayOff FridayIsDayOff  \\\n",
            "count              267               267              267            267   \n",
            "unique               1                 1                1              2   \n",
            "top              False             False            False          False   \n",
            "freq               267               267              267            266   \n",
            "mean               NaN               NaN              NaN            NaN   \n",
            "std                NaN               NaN              NaN            NaN   \n",
            "min                NaN               NaN              NaN            NaN   \n",
            "25%                NaN               NaN              NaN            NaN   \n",
            "50%                NaN               NaN              NaN            NaN   \n",
            "75%                NaN               NaN              NaN            NaN   \n",
            "max                NaN               NaN              NaN            NaN   \n",
            "\n",
            "       SaturdayIsDayOff SundayIsDayOff  \n",
            "count               267            267  \n",
            "unique                2              2  \n",
            "top                True           True  \n",
            "freq                254            258  \n",
            "mean                NaN            NaN  \n",
            "std                 NaN            NaN  \n",
            "min                 NaN            NaN  \n",
            "25%                 NaN            NaN  \n",
            "50%                 NaN            NaN  \n",
            "75%                 NaN            NaN  \n",
            "max                 NaN            NaN   \n",
            "\n",
            "UNIQUE VALUES:\n",
            "SiteId 267\n",
            "Surface 267\n",
            "Sampling 4\n",
            "BaseTemperature 3\n",
            "MondayIsDayOff 1\n",
            "TuesdayIsDayOff 1\n",
            "WednesdayIsDayOff 1\n",
            "ThursdayIsDayOff 1\n",
            "FridayIsDayOff 2\n",
            "SaturdayIsDayOff 2\n",
            "SundayIsDayOff 2\n",
            "\n",
            "\n",
            "VARIABLE CATEGORIES: \n",
            "\n",
            "SiteId :  Numerical\n",
            "Surface :  Numerical\n",
            "Sampling :  Numerical\n",
            "BaseTemperature :  Numerical\n",
            "MondayIsDayOff :  Numerical\n",
            "TuesdayIsDayOff :  Numerical\n",
            "WednesdayIsDayOff :  Numerical\n",
            "ThursdayIsDayOff :  Numerical\n",
            "FridayIsDayOff :  Numerical\n",
            "SaturdayIsDayOff :  Numerical\n",
            "SundayIsDayOff :  Numerical\n",
            "None\n"
          ],
          "name": "stdout"
        }
      ]
    },
    {
      "metadata": {
        "colab_type": "code",
        "id": "REyorFtJsz66",
        "outputId": "8cf9388d-be2b-4c5d-f216-79ac4a491427",
        "colab": {
          "base_uri": "https://localhost:8080/",
          "height": 51
        }
      },
      "cell_type": "code",
      "source": [
        "metadata['MondayIsDayOff'].value_counts()\n"
      ],
      "execution_count": 23,
      "outputs": [
        {
          "output_type": "execute_result",
          "data": {
            "text/plain": [
              "False    267\n",
              "Name: MondayIsDayOff, dtype: int64"
            ]
          },
          "metadata": {
            "tags": []
          },
          "execution_count": 23
        }
      ]
    },
    {
      "metadata": {
        "colab_type": "code",
        "id": "RvVPSIUYwJGb",
        "colab": {}
      },
      "cell_type": "code",
      "source": [
        "def dayoff(dataframe):\n",
        "    print('MONDAY IS A DAY OFF: \\n', dataframe.MondayIsDayOff.value_counts(),'\\n')\n",
        "    print('TUESDAY IS A DAY OFF: \\n', dataframe.TuesdayIsDayOff.value_counts(),'\\n')\n",
        "    print('WEDNESDAY IS A DAY OFF: \\n', dataframe.WednesdayIsDayOff.value_counts(),'\\n')\n",
        "    print('THURSDAY IS A DAY OFF: \\n', dataframe.ThursdayIsDayOff.value_counts(),'\\n')\n",
        "    print('FRIDAY IS A DAY OFF: \\n', dataframe.FridayIsDayOff.value_counts(),'\\n')\n",
        "    print('SATURDAY IS A DAY OFF: \\n', dataframe.SaturdayIsDayOff.value_counts(),'\\n')\n",
        "    print('SUNDAY IS A DAY OFF: \\n', dataframe.SundayIsDayOff.value_counts(),'\\n')"
      ],
      "execution_count": 0,
      "outputs": []
    },
    {
      "metadata": {
        "colab_type": "code",
        "id": "RTaHRtJRwq1M",
        "outputId": "450281c0-e9fa-4be4-edb7-69ecb5fba01c",
        "colab": {
          "base_uri": "https://localhost:8080/",
          "height": 544
        }
      },
      "cell_type": "code",
      "source": [
        "dayoff(metadata)"
      ],
      "execution_count": 25,
      "outputs": [
        {
          "output_type": "stream",
          "text": [
            "MONDAY IS A DAY OFF: \n",
            " False    267\n",
            "Name: MondayIsDayOff, dtype: int64 \n",
            "\n",
            "TUESDAY IS A DAY OFF: \n",
            " False    267\n",
            "Name: TuesdayIsDayOff, dtype: int64 \n",
            "\n",
            "WEDNESDAY IS A DAY OFF: \n",
            " False    267\n",
            "Name: WednesdayIsDayOff, dtype: int64 \n",
            "\n",
            "THURSDAY IS A DAY OFF: \n",
            " False    267\n",
            "Name: ThursdayIsDayOff, dtype: int64 \n",
            "\n",
            "FRIDAY IS A DAY OFF: \n",
            " False    266\n",
            "True       1\n",
            "Name: FridayIsDayOff, dtype: int64 \n",
            "\n",
            "SATURDAY IS A DAY OFF: \n",
            " True     254\n",
            "False     13\n",
            "Name: SaturdayIsDayOff, dtype: int64 \n",
            "\n",
            "SUNDAY IS A DAY OFF: \n",
            " True     258\n",
            "False      9\n",
            "Name: SundayIsDayOff, dtype: int64 \n",
            "\n"
          ],
          "name": "stdout"
        }
      ]
    },
    {
      "metadata": {
        "colab_type": "code",
        "id": "rPdNNZpOxsIb",
        "outputId": "f18e51de-db0a-4177-93c9-db01319f79fd",
        "colab": {
          "base_uri": "https://localhost:8080/",
          "height": 316
        }
      },
      "cell_type": "code",
      "source": [
        "metadata.plot(kind='scatter', x='Surface', y='BaseTemperature');\n",
        "#Think this dataset will be most useful for surface and day off\n",
        "#will minutes between sample times matter?"
      ],
      "execution_count": 26,
      "outputs": [
        {
          "output_type": "stream",
          "text": [
            "'c' argument looks like a single numeric RGB or RGBA sequence, which should be avoided as value-mapping will have precedence in case its length matches with 'x' & 'y'.  Please use a 2-D array with a single row if you really want to specify the same RGB or RGBA value for all points.\n"
          ],
          "name": "stderr"
        },
        {
          "output_type": "display_data",
          "data": {
            "image/png": "[encoded data removed]",
            "text/plain": [
              "<Figure size 432x288 with 1 Axes>"
            ]
          },
          "metadata": {
            "tags": []
          }
        }
      ]
    },
    {
      "metadata": {
        "colab_type": "text",
        "id": "OMg6fjCpF1Ku"
      },
      "cell_type": "markdown",
      "source": [
        "# Training Data"
      ]
    },
    {
      "metadata": {
        "colab_type": "code",
        "id": "dU7eq3QvkiqI",
        "outputId": "274fdc82-336f-450d-c82c-8c2fa7991d51",
        "colab": {
          "base_uri": "https://localhost:8080/",
          "height": 34
        }
      },
      "cell_type": "code",
      "source": [
        "training_data = 'https://drive.google.com/open?id=1Ri9t0yrf2A99S8Lqy3DwvydP-jmsokeL'\n",
        "fluff, id = training_data.split('=')\n",
        "print (id)"
      ],
      "execution_count": 27,
      "outputs": [
        {
          "output_type": "stream",
          "text": [
            "1Ri9t0yrf2A99S8Lqy3DwvydP-jmsokeL\n"
          ],
          "name": "stdout"
        }
      ]
    },
    {
      "metadata": {
        "colab_type": "code",
        "id": "p8fBeuCllIW7",
        "outputId": "dbd68994-b927-440f-b641-d36ccfc6f283",
        "colab": {
          "base_uri": "https://localhost:8080/",
          "height": 204
        }
      },
      "cell_type": "code",
      "source": [
        "downloaded = drive.CreateFile({'id':id}) \n",
        "downloaded.GetContentFile('power-laws-forecasting-energy-consumption-training-data.csv')  \n",
        "training_data = pd.read_csv('power-laws-forecasting-energy-consumption-training-data.csv', sep = ';')\n",
        "training_data['Timestamp'] = pd.to_datetime(training_data['Timestamp'])\n",
        "training_data.head()"
      ],
      "execution_count": 28,
      "outputs": [
        {
          "output_type": "execute_result",
          "data": {
            "text/html": [
              "<div>\n",
              "<style scoped>\n",
              "    .dataframe tbody tr th:only-of-type {\n",
              "        vertical-align: middle;\n",
              "    }\n",
              "\n",
              "    .dataframe tbody tr th {\n",
              "        vertical-align: top;\n",
              "    }\n",
              "\n",
              "    .dataframe thead th {\n",
              "        text-align: right;\n",
              "    }\n",
              "</style>\n",
              "<table border=\"1\" class=\"dataframe\">\n",
              "  <thead>\n",
              "    <tr style=\"text-align: right;\">\n",
              "      <th></th>\n",
              "      <th>obs_id</th>\n",
              "      <th>SiteId</th>\n",
              "      <th>Timestamp</th>\n",
              "      <th>ForecastId</th>\n",
              "      <th>Value</th>\n",
              "    </tr>\n",
              "  </thead>\n",
              "  <tbody>\n",
              "    <tr>\n",
              "      <th>0</th>\n",
              "      <td>7385825</td>\n",
              "      <td>295</td>\n",
              "      <td>2016-12-13</td>\n",
              "      <td>6576</td>\n",
              "      <td>120000.030698</td>\n",
              "    </tr>\n",
              "    <tr>\n",
              "      <th>1</th>\n",
              "      <td>5463619</td>\n",
              "      <td>295</td>\n",
              "      <td>2016-12-13</td>\n",
              "      <td>6576</td>\n",
              "      <td>54419.278745</td>\n",
              "    </tr>\n",
              "    <tr>\n",
              "      <th>2</th>\n",
              "      <td>339589</td>\n",
              "      <td>295</td>\n",
              "      <td>2016-12-13</td>\n",
              "      <td>6576</td>\n",
              "      <td>35351.037846</td>\n",
              "    </tr>\n",
              "    <tr>\n",
              "      <th>3</th>\n",
              "      <td>3952414</td>\n",
              "      <td>295</td>\n",
              "      <td>2016-12-13</td>\n",
              "      <td>6576</td>\n",
              "      <td>21932.474447</td>\n",
              "    </tr>\n",
              "    <tr>\n",
              "      <th>4</th>\n",
              "      <td>7222988</td>\n",
              "      <td>295</td>\n",
              "      <td>2016-12-14</td>\n",
              "      <td>6576</td>\n",
              "      <td>19379.923271</td>\n",
              "    </tr>\n",
              "  </tbody>\n",
              "</table>\n",
              "</div>"
            ],
            "text/plain": [
              "    obs_id  SiteId  Timestamp  ForecastId          Value\n",
              "0  7385825     295 2016-12-13        6576  120000.030698\n",
              "1  5463619     295 2016-12-13        6576   54419.278745\n",
              "2   339589     295 2016-12-13        6576   35351.037846\n",
              "3  3952414     295 2016-12-13        6576   21932.474447\n",
              "4  7222988     295 2016-12-14        6576   19379.923271"
            ]
          },
          "metadata": {
            "tags": []
          },
          "execution_count": 28
        }
      ]
    },
    {
      "metadata": {
        "colab_type": "code",
        "id": "-flb_7gaO-OM",
        "outputId": "d220f4f8-2bb8-47b5-ed5b-21ddf7e0bbd6",
        "colab": {
          "base_uri": "https://localhost:8080/",
          "height": 1207
        }
      },
      "cell_type": "code",
      "source": [
        "datainspect(training_data)"
      ],
      "execution_count": 29,
      "outputs": [
        {
          "output_type": "stream",
          "text": [
            "ROWS AND COLUMNS: \n",
            " (6559830, 5) \n",
            "\n",
            "MISSING VALUES: \n",
            " obs_id            0\n",
            "SiteId            0\n",
            "Timestamp         0\n",
            "ForecastId        0\n",
            "Value         86601\n",
            "dtype: int64 \n",
            "\n",
            "DUPLICATE ROWS \n",
            " 0 \n",
            "\n",
            "DATA TYPES: \n",
            " obs_id                 int64\n",
            "SiteId                 int64\n",
            "Timestamp     datetime64[ns]\n",
            "ForecastId             int64\n",
            "Value                float64\n",
            "dtype: object \n",
            "\n",
            "DATAFRAME DESCRIBE: \n",
            " \n",
            "               obs_id        SiteId            Timestamp    ForecastId  \\\n",
            "count   6.559830e+06  6.559830e+06              6559830  6.559830e+06   \n",
            "unique           NaN           NaN                 2931           NaN   \n",
            "top              NaN           NaN  2016-07-08 00:00:00           NaN   \n",
            "freq             NaN           NaN                 7358           NaN   \n",
            "first            NaN           NaN  2009-06-23 00:00:00           NaN   \n",
            "last             NaN           NaN  2017-12-08 00:00:00           NaN   \n",
            "mean    3.935106e+06  1.620964e+02                  NaN  3.482184e+03   \n",
            "std     2.271511e+06  9.392171e+01                  NaN  2.009486e+03   \n",
            "min     0.000000e+00  1.000000e+00                  NaN  1.000000e+00   \n",
            "25%     1.968046e+06  8.700000e+01                  NaN  1.744000e+03   \n",
            "50%     3.935262e+06  1.730000e+02                  NaN  3.489000e+03   \n",
            "75%     5.901983e+06  2.370000e+02                  NaN  5.216000e+03   \n",
            "max     7.869005e+06  3.050000e+02                  NaN  6.974000e+03   \n",
            "\n",
            "               Value  \n",
            "count   6.473229e+06  \n",
            "unique           NaN  \n",
            "top              NaN  \n",
            "freq             NaN  \n",
            "first            NaN  \n",
            "last             NaN  \n",
            "mean    3.560104e+05  \n",
            "std     3.309454e+08  \n",
            "min     0.000000e+00  \n",
            "25%     3.492465e+03  \n",
            "50%     1.408683e+04  \n",
            "75%     4.649371e+04  \n",
            "max     6.404683e+11   \n",
            "\n",
            "UNIQUE VALUES:\n",
            "obs_id 6559830\n",
            "SiteId 267\n",
            "Timestamp 2931\n",
            "ForecastId 6974\n",
            "Value 1933565\n",
            "\n",
            "\n",
            "VARIABLE CATEGORIES: \n",
            "\n",
            "obs_id :  Numerical\n",
            "SiteId :  Numerical\n",
            "Timestamp :  Date\n",
            "ForecastId :  Numerical\n",
            "Value :  Numerical\n",
            "None\n"
          ],
          "name": "stdout"
        }
      ]
    },
    {
      "metadata": {
        "id": "RH9DM73JUDso",
        "colab_type": "code",
        "outputId": "33d119cb-c629-4788-c561-27f13d562dc4",
        "colab": {
          "base_uri": "https://localhost:8080/",
          "height": 1207
        }
      },
      "cell_type": "code",
      "source": [
        "# Missing Data - when less than 5% of data is missing we can drop observations\n",
        "pct_missing = (86601/6559830)*100\n",
        "pct_missing\n",
        "\n",
        "training_data = training_data.dropna()\n",
        "datainspect(training_data)\n",
        "# training_data.sort_values('Timestamp')"
      ],
      "execution_count": 32,
      "outputs": [
        {
          "output_type": "stream",
          "text": [
            "ROWS AND COLUMNS: \n",
            " (6473229, 5) \n",
            "\n",
            "MISSING VALUES: \n",
            " obs_id        0\n",
            "SiteId        0\n",
            "Timestamp     0\n",
            "ForecastId    0\n",
            "Value         0\n",
            "dtype: int64 \n",
            "\n",
            "DUPLICATE ROWS \n",
            " 0 \n",
            "\n",
            "DATA TYPES: \n",
            " obs_id                 int64\n",
            "SiteId                 int64\n",
            "Timestamp     datetime64[ns]\n",
            "ForecastId             int64\n",
            "Value                float64\n",
            "dtype: object \n",
            "\n",
            "DATAFRAME DESCRIBE: \n",
            " \n",
            "               obs_id        SiteId            Timestamp    ForecastId  \\\n",
            "count   6.473229e+06  6.473229e+06              6473229  6.473229e+06   \n",
            "unique           NaN           NaN                 2931           NaN   \n",
            "top              NaN           NaN  2016-07-08 00:00:00           NaN   \n",
            "freq             NaN           NaN                 7335           NaN   \n",
            "first            NaN           NaN  2009-06-23 00:00:00           NaN   \n",
            "last             NaN           NaN  2017-12-08 00:00:00           NaN   \n",
            "mean    3.935129e+06  1.621301e+02                  NaN  3.482654e+03   \n",
            "std     2.271496e+06  9.384759e+01                  NaN  2.008069e+03   \n",
            "min     0.000000e+00  1.000000e+00                  NaN  1.000000e+00   \n",
            "25%     1.968126e+06  8.700000e+01                  NaN  1.748000e+03   \n",
            "50%     3.935265e+06  1.730000e+02                  NaN  3.489000e+03   \n",
            "75%     5.902068e+06  2.370000e+02                  NaN  5.213000e+03   \n",
            "max     7.869005e+06  3.050000e+02                  NaN  6.974000e+03   \n",
            "\n",
            "               Value  \n",
            "count   6.473229e+06  \n",
            "unique           NaN  \n",
            "top              NaN  \n",
            "freq             NaN  \n",
            "first            NaN  \n",
            "last             NaN  \n",
            "mean    3.560104e+05  \n",
            "std     3.309454e+08  \n",
            "min     0.000000e+00  \n",
            "25%     3.492465e+03  \n",
            "50%     1.408683e+04  \n",
            "75%     4.649371e+04  \n",
            "max     6.404683e+11   \n",
            "\n",
            "UNIQUE VALUES:\n",
            "obs_id 6473229\n",
            "SiteId 267\n",
            "Timestamp 2931\n",
            "ForecastId 6964\n",
            "Value 1933565\n",
            "\n",
            "\n",
            "VARIABLE CATEGORIES: \n",
            "\n",
            "obs_id :  Numerical\n",
            "SiteId :  Numerical\n",
            "Timestamp :  Date\n",
            "ForecastId :  Numerical\n",
            "Value :  Numerical\n",
            "None\n"
          ],
          "name": "stdout"
        }
      ]
    },
    {
      "metadata": {
        "colab_type": "code",
        "id": "XQNWOvFV1T_y",
        "outputId": "bd42fe64-c278-4aab-aa1d-4b44f6e75dc1",
        "colab": {
          "base_uri": "https://localhost:8080/",
          "height": 282
        }
      },
      "cell_type": "code",
      "source": [
        "corr = training_data.corr()                            # correlation between ALL variables \n",
        "sns.heatmap(corr, cmap='bwr')"
      ],
      "execution_count": 29,
      "outputs": [
        {
          "output_type": "execute_result",
          "data": {
            "text/plain": [
              "<matplotlib.axes._subplots.AxesSubplot at 0x7f991bb34da0>"
            ]
          },
          "metadata": {
            "tags": []
          },
          "execution_count": 29
        },
        {
          "output_type": "display_data",
          "data": {
            "image/png": "[encoded data removed]",
            "text/plain": [
              "<Figure size 432x288 with 2 Axes>"
            ]
          },
          "metadata": {
            "tags": []
          }
        }
      ]
    },
    {
      "metadata": {
        "colab_type": "text",
        "id": "EVPmKIm91t8R"
      },
      "cell_type": "markdown",
      "source": [
        "**Correlation Pot**\n",
        "\n",
        "\n",
        "\n",
        "*   forecastId an SiteId are very correlated\n",
        "\n"
      ]
    },
    {
      "metadata": {
        "colab_type": "text",
        "id": "wlmejkTgUjHS"
      },
      "cell_type": "markdown",
      "source": [
        "**Inspecting the Training Data:**\n",
        "\n",
        "\n",
        "*   There are no missing values\n",
        "*   Multiple time-stamps for same Site-id\n",
        "\n"
      ]
    },
    {
      "metadata": {
        "colab_type": "text",
        "id": "_TJ5RO3cF7ho"
      },
      "cell_type": "markdown",
      "source": [
        "# Weather"
      ]
    },
    {
      "metadata": {
        "colab_type": "code",
        "id": "gmmjRn84lX5-",
        "outputId": "bc980b10-dd97-4a4b-db94-b71d54d895ab",
        "colab": {
          "base_uri": "https://localhost:8080/",
          "height": 34
        }
      },
      "cell_type": "code",
      "source": [
        "weather = 'https://drive.google.com/open?id=1QZtFjz61NS0Ebbma42LrGtYZFRSsF3Ij'\n",
        "fluff, id = weather.split('=')\n",
        "print (id)"
      ],
      "execution_count": 33,
      "outputs": [
        {
          "output_type": "stream",
          "text": [
            "1QZtFjz61NS0Ebbma42LrGtYZFRSsF3Ij\n"
          ],
          "name": "stdout"
        }
      ]
    },
    {
      "metadata": {
        "colab_type": "code",
        "id": "UDtjURR6lv1g",
        "outputId": "e983a829-566d-41b3-e672-1f44b7ab3c0d",
        "colab": {
          "base_uri": "https://localhost:8080/",
          "height": 204
        }
      },
      "cell_type": "code",
      "source": [
        "downloaded = drive.CreateFile({'id':id}) \n",
        "downloaded.GetContentFile('power-laws-forecasting-energy-consumption-weather.csv')  \n",
        "weather = pd.read_csv('power-laws-forecasting-energy-consumption-weather.csv', sep = ';')\n",
        "weather.head()"
      ],
      "execution_count": 34,
      "outputs": [
        {
          "output_type": "execute_result",
          "data": {
            "text/html": [
              "<div>\n",
              "<style scoped>\n",
              "    .dataframe tbody tr th:only-of-type {\n",
              "        vertical-align: middle;\n",
              "    }\n",
              "\n",
              "    .dataframe tbody tr th {\n",
              "        vertical-align: top;\n",
              "    }\n",
              "\n",
              "    .dataframe thead th {\n",
              "        text-align: right;\n",
              "    }\n",
              "</style>\n",
              "<table border=\"1\" class=\"dataframe\">\n",
              "  <thead>\n",
              "    <tr style=\"text-align: right;\">\n",
              "      <th></th>\n",
              "      <th>Timestamp</th>\n",
              "      <th>Temperature</th>\n",
              "      <th>Distance</th>\n",
              "      <th>SiteId</th>\n",
              "    </tr>\n",
              "  </thead>\n",
              "  <tbody>\n",
              "    <tr>\n",
              "      <th>0</th>\n",
              "      <td>2016-11-10T14:50:00-05:00</td>\n",
              "      <td>17.0</td>\n",
              "      <td>18.071988</td>\n",
              "      <td>278</td>\n",
              "    </tr>\n",
              "    <tr>\n",
              "      <th>1</th>\n",
              "      <td>2016-11-10T17:20:00-05:00</td>\n",
              "      <td>15.0</td>\n",
              "      <td>18.071988</td>\n",
              "      <td>278</td>\n",
              "    </tr>\n",
              "    <tr>\n",
              "      <th>2</th>\n",
              "      <td>2016-11-10T18:00:00-05:00</td>\n",
              "      <td>14.6</td>\n",
              "      <td>20.641517</td>\n",
              "      <td>278</td>\n",
              "    </tr>\n",
              "    <tr>\n",
              "      <th>3</th>\n",
              "      <td>2016-11-11T18:50:00-05:00</td>\n",
              "      <td>14.0</td>\n",
              "      <td>18.071988</td>\n",
              "      <td>278</td>\n",
              "    </tr>\n",
              "    <tr>\n",
              "      <th>4</th>\n",
              "      <td>2016-11-11T23:20:00-05:00</td>\n",
              "      <td>10.0</td>\n",
              "      <td>18.071988</td>\n",
              "      <td>278</td>\n",
              "    </tr>\n",
              "  </tbody>\n",
              "</table>\n",
              "</div>"
            ],
            "text/plain": [
              "                   Timestamp  Temperature   Distance  SiteId\n",
              "0  2016-11-10T14:50:00-05:00         17.0  18.071988     278\n",
              "1  2016-11-10T17:20:00-05:00         15.0  18.071988     278\n",
              "2  2016-11-10T18:00:00-05:00         14.6  20.641517     278\n",
              "3  2016-11-11T18:50:00-05:00         14.0  18.071988     278\n",
              "4  2016-11-11T23:20:00-05:00         10.0  18.071988     278"
            ]
          },
          "metadata": {
            "tags": []
          },
          "execution_count": 34
        }
      ]
    },
    {
      "metadata": {
        "colab_type": "code",
        "id": "dzFSRNJg9lkU",
        "outputId": "f67b3299-e1c2-4cfc-8679-3d55de74a175",
        "colab": {
          "base_uri": "https://localhost:8080/",
          "height": 204
        }
      },
      "cell_type": "code",
      "source": [
        "# I have no idea what the last few digits of this time stamp mean.\n",
        "# For now I'm going to remove them so I can convert the rest of it but saving it in a new column\n",
        "weather['weatherTimeSuffix'] = weather['Timestamp'].str[-5:]\n",
        "weather['Timestamp'] = weather['Timestamp'].str[:-6]\n",
        "weather['Timestamp'] = weather['Timestamp'].str.replace('T',' ')\n",
        "weather.head()"
      ],
      "execution_count": 35,
      "outputs": [
        {
          "output_type": "execute_result",
          "data": {
            "text/html": [
              "<div>\n",
              "<style scoped>\n",
              "    .dataframe tbody tr th:only-of-type {\n",
              "        vertical-align: middle;\n",
              "    }\n",
              "\n",
              "    .dataframe tbody tr th {\n",
              "        vertical-align: top;\n",
              "    }\n",
              "\n",
              "    .dataframe thead th {\n",
              "        text-align: right;\n",
              "    }\n",
              "</style>\n",
              "<table border=\"1\" class=\"dataframe\">\n",
              "  <thead>\n",
              "    <tr style=\"text-align: right;\">\n",
              "      <th></th>\n",
              "      <th>Timestamp</th>\n",
              "      <th>Temperature</th>\n",
              "      <th>Distance</th>\n",
              "      <th>SiteId</th>\n",
              "      <th>weatherTimeSuffix</th>\n",
              "    </tr>\n",
              "  </thead>\n",
              "  <tbody>\n",
              "    <tr>\n",
              "      <th>0</th>\n",
              "      <td>2016-11-10 14:50:00</td>\n",
              "      <td>17.0</td>\n",
              "      <td>18.071988</td>\n",
              "      <td>278</td>\n",
              "      <td>05:00</td>\n",
              "    </tr>\n",
              "    <tr>\n",
              "      <th>1</th>\n",
              "      <td>2016-11-10 17:20:00</td>\n",
              "      <td>15.0</td>\n",
              "      <td>18.071988</td>\n",
              "      <td>278</td>\n",
              "      <td>05:00</td>\n",
              "    </tr>\n",
              "    <tr>\n",
              "      <th>2</th>\n",
              "      <td>2016-11-10 18:00:00</td>\n",
              "      <td>14.6</td>\n",
              "      <td>20.641517</td>\n",
              "      <td>278</td>\n",
              "      <td>05:00</td>\n",
              "    </tr>\n",
              "    <tr>\n",
              "      <th>3</th>\n",
              "      <td>2016-11-11 18:50:00</td>\n",
              "      <td>14.0</td>\n",
              "      <td>18.071988</td>\n",
              "      <td>278</td>\n",
              "      <td>05:00</td>\n",
              "    </tr>\n",
              "    <tr>\n",
              "      <th>4</th>\n",
              "      <td>2016-11-11 23:20:00</td>\n",
              "      <td>10.0</td>\n",
              "      <td>18.071988</td>\n",
              "      <td>278</td>\n",
              "      <td>05:00</td>\n",
              "    </tr>\n",
              "  </tbody>\n",
              "</table>\n",
              "</div>"
            ],
            "text/plain": [
              "             Timestamp  Temperature   Distance  SiteId weatherTimeSuffix\n",
              "0  2016-11-10 14:50:00         17.0  18.071988     278             05:00\n",
              "1  2016-11-10 17:20:00         15.0  18.071988     278             05:00\n",
              "2  2016-11-10 18:00:00         14.6  20.641517     278             05:00\n",
              "3  2016-11-11 18:50:00         14.0  18.071988     278             05:00\n",
              "4  2016-11-11 23:20:00         10.0  18.071988     278             05:00"
            ]
          },
          "metadata": {
            "tags": []
          },
          "execution_count": 35
        }
      ]
    },
    {
      "metadata": {
        "colab_type": "code",
        "id": "5Um5FqEE-Tdh",
        "outputId": "0337c9dd-6a28-4dd1-f1b2-84e6068c2861",
        "colab": {
          "base_uri": "https://localhost:8080/",
          "height": 204
        }
      },
      "cell_type": "code",
      "source": [
        "weather['Timestamp'] = pd.to_datetime(weather['Timestamp'])\n",
        "weather.head()"
      ],
      "execution_count": 36,
      "outputs": [
        {
          "output_type": "execute_result",
          "data": {
            "text/html": [
              "<div>\n",
              "<style scoped>\n",
              "    .dataframe tbody tr th:only-of-type {\n",
              "        vertical-align: middle;\n",
              "    }\n",
              "\n",
              "    .dataframe tbody tr th {\n",
              "        vertical-align: top;\n",
              "    }\n",
              "\n",
              "    .dataframe thead th {\n",
              "        text-align: right;\n",
              "    }\n",
              "</style>\n",
              "<table border=\"1\" class=\"dataframe\">\n",
              "  <thead>\n",
              "    <tr style=\"text-align: right;\">\n",
              "      <th></th>\n",
              "      <th>Timestamp</th>\n",
              "      <th>Temperature</th>\n",
              "      <th>Distance</th>\n",
              "      <th>SiteId</th>\n",
              "      <th>weatherTimeSuffix</th>\n",
              "    </tr>\n",
              "  </thead>\n",
              "  <tbody>\n",
              "    <tr>\n",
              "      <th>0</th>\n",
              "      <td>2016-11-10 14:50:00</td>\n",
              "      <td>17.0</td>\n",
              "      <td>18.071988</td>\n",
              "      <td>278</td>\n",
              "      <td>05:00</td>\n",
              "    </tr>\n",
              "    <tr>\n",
              "      <th>1</th>\n",
              "      <td>2016-11-10 17:20:00</td>\n",
              "      <td>15.0</td>\n",
              "      <td>18.071988</td>\n",
              "      <td>278</td>\n",
              "      <td>05:00</td>\n",
              "    </tr>\n",
              "    <tr>\n",
              "      <th>2</th>\n",
              "      <td>2016-11-10 18:00:00</td>\n",
              "      <td>14.6</td>\n",
              "      <td>20.641517</td>\n",
              "      <td>278</td>\n",
              "      <td>05:00</td>\n",
              "    </tr>\n",
              "    <tr>\n",
              "      <th>3</th>\n",
              "      <td>2016-11-11 18:50:00</td>\n",
              "      <td>14.0</td>\n",
              "      <td>18.071988</td>\n",
              "      <td>278</td>\n",
              "      <td>05:00</td>\n",
              "    </tr>\n",
              "    <tr>\n",
              "      <th>4</th>\n",
              "      <td>2016-11-11 23:20:00</td>\n",
              "      <td>10.0</td>\n",
              "      <td>18.071988</td>\n",
              "      <td>278</td>\n",
              "      <td>05:00</td>\n",
              "    </tr>\n",
              "  </tbody>\n",
              "</table>\n",
              "</div>"
            ],
            "text/plain": [
              "            Timestamp  Temperature   Distance  SiteId weatherTimeSuffix\n",
              "0 2016-11-10 14:50:00         17.0  18.071988     278             05:00\n",
              "1 2016-11-10 17:20:00         15.0  18.071988     278             05:00\n",
              "2 2016-11-10 18:00:00         14.6  20.641517     278             05:00\n",
              "3 2016-11-11 18:50:00         14.0  18.071988     278             05:00\n",
              "4 2016-11-11 23:20:00         10.0  18.071988     278             05:00"
            ]
          },
          "metadata": {
            "tags": []
          },
          "execution_count": 36
        }
      ]
    },
    {
      "metadata": {
        "colab_type": "code",
        "id": "Ed94MmXMPUIS",
        "outputId": "acd6b931-4931-4c1b-bff5-a6145f971ce7",
        "colab": {
          "base_uri": "https://localhost:8080/",
          "height": 164
        }
      },
      "cell_type": "code",
      "source": [
        "datainspect(weather)"
      ],
      "execution_count": 31,
      "outputs": [
        {
          "output_type": "error",
          "ename": "NameError",
          "evalue": "ignored",
          "traceback": [
            "\u001b[0;31m---------------------------------------------------------------------------\u001b[0m",
            "\u001b[0;31mNameError\u001b[0m                                 Traceback (most recent call last)",
            "\u001b[0;32m<ipython-input-31-3f1c4d6bef5b>\u001b[0m in \u001b[0;36m<module>\u001b[0;34m()\u001b[0m\n\u001b[0;32m----> 1\u001b[0;31m \u001b[0mdatainspect\u001b[0m\u001b[0;34m(\u001b[0m\u001b[0mweather\u001b[0m\u001b[0;34m)\u001b[0m\u001b[0;34m\u001b[0m\u001b[0;34m\u001b[0m\u001b[0m\n\u001b[0m",
            "\u001b[0;31mNameError\u001b[0m: name 'weather' is not defined"
          ]
        }
      ]
    },
    {
      "metadata": {
        "colab_type": "code",
        "id": "XdxFLZBb3Rvy",
        "colab": {}
      },
      "cell_type": "code",
      "source": [
        "corr2 = weather.corr()                            # correlation between ALL variables \n",
        "sns.heatmap(corr2, cmap='bwr')"
      ],
      "execution_count": 0,
      "outputs": []
    },
    {
      "metadata": {
        "id": "lebNLe9vnxjg",
        "colab_type": "text"
      },
      "cell_type": "markdown",
      "source": [
        "# Merging"
      ]
    },
    {
      "metadata": {
        "id": "qMFAWS0Vnz35",
        "colab_type": "code",
        "colab": {
          "base_uri": "https://localhost:8080/",
          "height": 34
        },
        "outputId": "309391b5-f4ea-480d-a63f-a9fb1e08f452"
      },
      "cell_type": "code",
      "source": [
        "merge1 = training_data.join(metadata.set_index('SiteId'), on = 'SiteId')\n",
        "merge1.head()\n",
        "merge1.shape"
      ],
      "execution_count": 67,
      "outputs": [
        {
          "output_type": "execute_result",
          "data": {
            "text/plain": [
              "(6473229, 15)"
            ]
          },
          "metadata": {
            "tags": []
          },
          "execution_count": 67
        }
      ]
    },
    {
      "metadata": {
        "id": "Zon2ZhvHz6KO",
        "colab_type": "code",
        "colab": {
          "base_uri": "https://localhost:8080/",
          "height": 218
        },
        "outputId": "98f58aef-023e-4a3a-a1de-bf23453eeb8d"
      },
      "cell_type": "code",
      "source": [
        "# left join, preserves all rows from training_data\n",
        "training_merged = pd.merge(merge1, holidays, how = 'left', left_on = ['SiteId', 'Timestamp'], right_on = ['SiteId', 'Timestamp'])\n",
        "training_merged.head()\n",
        "# size = about 6 million"
      ],
      "execution_count": 1,
      "outputs": [
        {
          "output_type": "error",
          "ename": "NameError",
          "evalue": "ignored",
          "traceback": [
            "\u001b[0;31m---------------------------------------------------------------------------\u001b[0m",
            "\u001b[0;31mNameError\u001b[0m                                 Traceback (most recent call last)",
            "\u001b[0;32m<ipython-input-1-c031a106218c>\u001b[0m in \u001b[0;36m<module>\u001b[0;34m()\u001b[0m\n\u001b[0;32m----> 1\u001b[0;31m \u001b[0mtraining_merged\u001b[0m \u001b[0;34m=\u001b[0m \u001b[0mpd\u001b[0m\u001b[0;34m.\u001b[0m\u001b[0mmerge\u001b[0m\u001b[0;34m(\u001b[0m\u001b[0mmerge1\u001b[0m\u001b[0;34m,\u001b[0m \u001b[0mholidays\u001b[0m\u001b[0;34m,\u001b[0m \u001b[0mhow\u001b[0m \u001b[0;34m=\u001b[0m \u001b[0;34m'left'\u001b[0m\u001b[0;34m,\u001b[0m \u001b[0mleft_on\u001b[0m \u001b[0;34m=\u001b[0m \u001b[0;34m[\u001b[0m\u001b[0;34m'SiteId'\u001b[0m\u001b[0;34m,\u001b[0m \u001b[0;34m'Timestamp'\u001b[0m\u001b[0;34m]\u001b[0m\u001b[0;34m,\u001b[0m \u001b[0mright_on\u001b[0m \u001b[0;34m=\u001b[0m \u001b[0;34m[\u001b[0m\u001b[0;34m'SiteId'\u001b[0m\u001b[0;34m,\u001b[0m \u001b[0;34m'Timestamp'\u001b[0m\u001b[0;34m]\u001b[0m\u001b[0;34m)\u001b[0m\u001b[0;34m\u001b[0m\u001b[0;34m\u001b[0m\u001b[0m\n\u001b[0m\u001b[1;32m      2\u001b[0m \u001b[0mtraining_merged\u001b[0m\u001b[0;34m.\u001b[0m\u001b[0mhead\u001b[0m\u001b[0;34m(\u001b[0m\u001b[0;34m)\u001b[0m\u001b[0;34m\u001b[0m\u001b[0;34m\u001b[0m\u001b[0m\n\u001b[1;32m      3\u001b[0m \u001b[0;31m# size = about 6 million\u001b[0m\u001b[0;34m\u001b[0m\u001b[0;34m\u001b[0m\u001b[0;34m\u001b[0m\u001b[0m\n",
            "\u001b[0;31mNameError\u001b[0m: name 'pd' is not defined"
          ]
        }
      ]
    },
    {
      "metadata": {
        "id": "0Gx_38-s0eB7",
        "colab_type": "code",
        "colab": {}
      },
      "cell_type": "code",
      "source": [
        "# I chose outer because weather and training_data don't have any of the same timestamps\n",
        "# final = pd.merge(merge2, weather, how = 'outer', left_on = ['SiteId', 'Timestamp'], right_on = ['SiteId', 'Timestamp'])"
      ],
      "execution_count": 0,
      "outputs": []
    },
    {
      "metadata": {
        "id": "sV075glt06lX",
        "colab_type": "code",
        "colab": {
          "base_uri": "https://localhost:8080/",
          "height": 204
        },
        "outputId": "0a7bb666-cef2-47ee-c4cb-1718183ac1e4"
      },
      "cell_type": "code",
      "source": [
        "# Left join, preserves all rows from submission_format\n",
        "submission_data = submission_format.join(submission_forecast_period.set_index('ForecastId'), on = 'ForecastId')\n",
        "submission_data.head()\n",
        "# size = about 1 million"
      ],
      "execution_count": 70,
      "outputs": [
        {
          "output_type": "execute_result",
          "data": {
            "text/html": [
              "<div>\n",
              "<style scoped>\n",
              "    .dataframe tbody tr th:only-of-type {\n",
              "        vertical-align: middle;\n",
              "    }\n",
              "\n",
              "    .dataframe tbody tr th {\n",
              "        vertical-align: top;\n",
              "    }\n",
              "\n",
              "    .dataframe thead th {\n",
              "        text-align: right;\n",
              "    }\n",
              "</style>\n",
              "<table border=\"1\" class=\"dataframe\">\n",
              "  <thead>\n",
              "    <tr style=\"text-align: right;\">\n",
              "      <th></th>\n",
              "      <th>obs_id</th>\n",
              "      <th>SiteId</th>\n",
              "      <th>Timestamp</th>\n",
              "      <th>ForecastId</th>\n",
              "      <th>Value</th>\n",
              "      <th>ForecastPeriodNS</th>\n",
              "    </tr>\n",
              "  </thead>\n",
              "  <tbody>\n",
              "    <tr>\n",
              "      <th>0</th>\n",
              "      <td>2535749</td>\n",
              "      <td>143</td>\n",
              "      <td>2017-08-28</td>\n",
              "      <td>3146</td>\n",
              "      <td>0.0</td>\n",
              "      <td>900000000000</td>\n",
              "    </tr>\n",
              "    <tr>\n",
              "      <th>1</th>\n",
              "      <td>7300088</td>\n",
              "      <td>143</td>\n",
              "      <td>2017-08-28</td>\n",
              "      <td>3146</td>\n",
              "      <td>0.0</td>\n",
              "      <td>900000000000</td>\n",
              "    </tr>\n",
              "    <tr>\n",
              "      <th>2</th>\n",
              "      <td>1465337</td>\n",
              "      <td>143</td>\n",
              "      <td>2017-08-28</td>\n",
              "      <td>3146</td>\n",
              "      <td>0.0</td>\n",
              "      <td>900000000000</td>\n",
              "    </tr>\n",
              "    <tr>\n",
              "      <th>3</th>\n",
              "      <td>4747700</td>\n",
              "      <td>143</td>\n",
              "      <td>2017-08-28</td>\n",
              "      <td>3146</td>\n",
              "      <td>0.0</td>\n",
              "      <td>900000000000</td>\n",
              "    </tr>\n",
              "    <tr>\n",
              "      <th>4</th>\n",
              "      <td>6008051</td>\n",
              "      <td>143</td>\n",
              "      <td>2017-08-28</td>\n",
              "      <td>3146</td>\n",
              "      <td>0.0</td>\n",
              "      <td>900000000000</td>\n",
              "    </tr>\n",
              "  </tbody>\n",
              "</table>\n",
              "</div>"
            ],
            "text/plain": [
              "    obs_id  SiteId  Timestamp  ForecastId  Value  ForecastPeriodNS\n",
              "0  2535749     143 2017-08-28        3146    0.0      900000000000\n",
              "1  7300088     143 2017-08-28        3146    0.0      900000000000\n",
              "2  1465337     143 2017-08-28        3146    0.0      900000000000\n",
              "3  4747700     143 2017-08-28        3146    0.0      900000000000\n",
              "4  6008051     143 2017-08-28        3146    0.0      900000000000"
            ]
          },
          "metadata": {
            "tags": []
          },
          "execution_count": 70
        }
      ]
    },
    {
      "metadata": {
        "id": "lAfB02cx4jU8",
        "colab_type": "code",
        "colab": {
          "base_uri": "https://localhost:8080/",
          "height": 34
        },
        "outputId": "09a5e97a-ba7f-47af-c4b7-4eead5962903"
      },
      "cell_type": "code",
      "source": [
        "testing1 = pd.merge(training_merged, submission_data, how = 'inner', left_on = ['obs_id'], right_on = ['obs_id'])\n",
        "testing1.shape\n",
        "# There is NO OVERLAP in obs_id between submission and training data"
      ],
      "execution_count": 71,
      "outputs": [
        {
          "output_type": "execute_result",
          "data": {
            "text/plain": [
              "(0, 21)"
            ]
          },
          "metadata": {
            "tags": []
          },
          "execution_count": 71
        }
      ]
    },
    {
      "metadata": {
        "id": "y5RLMFFe6hTf",
        "colab_type": "code",
        "colab": {}
      },
      "cell_type": "code",
      "source": [
        "# what is the overlap in ForecastId between the training and submission data?\n",
        "# testing2 = pd.merge(training_merged, submission_data, how = 'inner', left_on = ['ForecastId'], right_on = ['ForecastId'])\n",
        "# testing2.shape"
      ],
      "execution_count": 0,
      "outputs": []
    },
    {
      "metadata": {
        "id": "NNrhvgjL6HlJ",
        "colab_type": "code",
        "colab": {}
      },
      "cell_type": "code",
      "source": [
        "final = pd.merge(submission_data, merge2, how = 'inner', left_on = ['ForecastId'], right_on = ['obs_id'])\n",
        "\n",
        "# is ForecastId uniquely determined by SiteId and Timestamp?"
      ],
      "execution_count": 0,
      "outputs": []
    },
    {
      "metadata": {
        "id": "3GJNL_jUEuXT",
        "colab_type": "text"
      },
      "cell_type": "markdown",
      "source": [
        "# Correlation "
      ]
    },
    {
      "metadata": {
        "id": "ObmIoOOHFHRT",
        "colab_type": "text"
      },
      "cell_type": "markdown",
      "source": [
        "** Analysis of Correlation **\n",
        "\n",
        "**Variables we probably want to use: **\n",
        "\n",
        "(Only chose these because they are not close to 1, -1, or 0)\n",
        "\n",
        "* SiteId\n",
        "* Sampling \n",
        "* Surface\n",
        "* Value\n",
        "* ForecastId\n",
        "* Temperature\n",
        "* Distance\n",
        "* Dayoff (maybe)\n"
      ]
    },
    {
      "metadata": {
        "colab_type": "code",
        "id": "fVynhIcOl7Q-",
        "colab": {}
      },
      "cell_type": "code",
      "source": [
        "# Variables\n",
        "weather_distance = weather[['Distance']]\n",
        "weather_temp = weather[['Temperature']]\n",
        "training_data_value = training_data[['Value']]\n",
        "training_data_ts = training_data[['Timestamp']]\n",
        "metadata_basetemp = metadata[['BaseTemperature']]\n",
        "metadata_surface = metadata[['Surface']]"
      ],
      "execution_count": 0,
      "outputs": []
    },
    {
      "metadata": {
        "colab_type": "code",
        "id": "o4Rta6CJ_qiN",
        "outputId": "e162cf61-aa14-481c-e1dd-2746c08cfc25",
        "colab": {
          "base_uri": "https://localhost:8080/",
          "height": 282
        }
      },
      "cell_type": "code",
      "source": [
        "plt.plot(metadata_basetemp)\n",
        "plt.plot(metadata_surface)"
      ],
      "execution_count": 0,
      "outputs": [
        {
          "output_type": "execute_result",
          "data": {
            "text/plain": [
              "[<matplotlib.lines.Line2D at 0x7f4132249668>]"
            ]
          },
          "metadata": {
            "tags": []
          },
          "execution_count": 38
        },
        {
          "output_type": "display_data",
          "data": {
            "image/png": "[encoded data removed]",
            "text/plain": [
              "<Figure size 432x288 with 1 Axes>"
            ]
          },
          "metadata": {
            "tags": []
          }
        }
      ]
    },
    {
      "metadata": {
        "colab_type": "code",
        "id": "hyLS0kwKBuXB",
        "colab": {}
      },
      "cell_type": "code",
      "source": [
        ""
      ],
      "execution_count": 0,
      "outputs": []
    }
  ]
}